{
    "cells": [
        {
            "metadata": {
                "collapsed": true
            },
            "cell_type": "markdown",
            "source": "# Introduction\n## Problem Description\n\nMy stakeholder plans to open a restaurant in NYC. Being an entrepreneur, and not a cook, he wants to understand which type of restaurant is more convenient to open and in which area of NYC. Maybe chinese or italian resturant? So first of all he wants to understand in the different areas of NYC what is the characteristic or more present cuisine, because this certainly reflects the culture of those who live in those areas. Once he understood this, he would like to identify a NYC area in which most popular cuisine restaurants has a low number of visitors anyway, so he can open his restaurant right there. Doing so would be safe in choosing the type of cuisine for that area, but would also be able to open his restaurant withou having an excessive competition. \n\n## Data Description\nTo meet my stakeholder's request I intend to identify clusters of neighborhoods based on their cuisine using Foursquare APIs. Once I have identified the most present cuisine in each cluster, I intend to use the NYC Restaurant Rich Dataset (Check-ins, Tips, Tags) (available here dataset https://sites.google.com/site/yangdingqi/home/foursquare-dataset ) to find out which is the cuisine-cluster couple that collects the fewest visitors, so that I can tell my stakeholder to open a restaurant with that typical cuisine in that cluster. \n\nThe NYC Restaurant Rich Dataset (Check-ins, Tips, Tags) includes check-ins, tips and tags data of restaurant venues in NYC collected from Foursquare.\nIt contains three files, including 3112 users and 3298 venues with 27149 check-ins and 10377 tips.\n\n1. dataset_ubicomp2013_checkins.txt has two columns. \nEach line represents a check-in event. \nThe first column is user ID, while the second column is venue ID. \n\n2. dataset_ubicomp2013_tips.txt has three columns. \nEach line represents a tip/comment a user left on a venue. \nThe first and second columns are user ID and venue ID, repsectively. \nThe third column is tip text.\n\n3. dataset_ubicomp2013_tags.txt has two columns. \nEach line represents the tags users added to a venue. \nThe first column is venue ID while the second column is tag set of the corresponding venues.\nEmpty tag set may exist for a venue since no user has ever added a tag to it.\n\nThe first dataset will be the one used in my analysis in order to identify the total number of check-ins for a certain resturant type. "
        },
        {
            "metadata": {},
            "cell_type": "code",
            "source": "",
            "execution_count": null,
            "outputs": []
        }
    ],
    "metadata": {
        "kernelspec": {
            "name": "python3",
            "display_name": "Python 3.6",
            "language": "python"
        },
        "language_info": {
            "name": "python",
            "version": "3.6.9",
            "mimetype": "text/x-python",
            "codemirror_mode": {
                "name": "ipython",
                "version": 3
            },
            "pygments_lexer": "ipython3",
            "nbconvert_exporter": "python",
            "file_extension": ".py"
        }
    },
    "nbformat": 4,
    "nbformat_minor": 1
}